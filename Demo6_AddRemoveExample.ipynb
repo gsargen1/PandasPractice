{
 "metadata": {
  "language_info": {
   "codemirror_mode": {
    "name": "ipython",
    "version": 3
   },
   "file_extension": ".py",
   "mimetype": "text/x-python",
   "name": "python",
   "nbconvert_exporter": "python",
   "pygments_lexer": "ipython3",
   "version": "3.8.5"
  },
  "orig_nbformat": 2,
  "kernelspec": {
   "name": "python385jvsc74a57bd03e3f6de77da54f489c4bd533623ec54687266deb1611e9235edf5514f117c257",
   "display_name": "Python 3.8.5 64-bit ('base': conda)"
  },
  "metadata": {
   "interpreter": {
    "hash": "7845bef126127a2d3302cc4efd0c9da38a46f0f10b55e997554f30f7d9a94324"
   }
  }
 },
 "nbformat": 4,
 "nbformat_minor": 2,
 "cells": [
  {
   "cell_type": "code",
   "execution_count": 2,
   "metadata": {},
   "outputs": [],
   "source": [
    "people = {\n",
    "    \"first\": [\"Griffin\", \"Jane\", \"John\"],\n",
    "    \"last\": [\"Sargent\", \"Doe\", \"Doe\"],\n",
    "    \"email\": [\"griffin.a.sargent@gmail.com\", \"jane@email.com\", \"MikeJ@email.com\"]\n",
    "}"
   ]
  },
  {
   "cell_type": "code",
   "execution_count": 3,
   "metadata": {},
   "outputs": [],
   "source": [
    "import pandas as pd"
   ]
  },
  {
   "cell_type": "code",
   "execution_count": 4,
   "metadata": {},
   "outputs": [
    {
     "output_type": "execute_result",
     "data": {
      "text/plain": [
       "     first     last                        email\n",
       "0  Griffin  Sargent  griffin.a.sargent@gmail.com\n",
       "1     Jane      Doe               jane@email.com\n",
       "2     John      Doe              MikeJ@email.com"
      ],
      "text/html": "<div>\n<style scoped>\n    .dataframe tbody tr th:only-of-type {\n        vertical-align: middle;\n    }\n\n    .dataframe tbody tr th {\n        vertical-align: top;\n    }\n\n    .dataframe thead th {\n        text-align: right;\n    }\n</style>\n<table border=\"1\" class=\"dataframe\">\n  <thead>\n    <tr style=\"text-align: right;\">\n      <th></th>\n      <th>first</th>\n      <th>last</th>\n      <th>email</th>\n    </tr>\n  </thead>\n  <tbody>\n    <tr>\n      <th>0</th>\n      <td>Griffin</td>\n      <td>Sargent</td>\n      <td>griffin.a.sargent@gmail.com</td>\n    </tr>\n    <tr>\n      <th>1</th>\n      <td>Jane</td>\n      <td>Doe</td>\n      <td>jane@email.com</td>\n    </tr>\n    <tr>\n      <th>2</th>\n      <td>John</td>\n      <td>Doe</td>\n      <td>MikeJ@email.com</td>\n    </tr>\n  </tbody>\n</table>\n</div>"
     },
     "metadata": {},
     "execution_count": 4
    }
   ],
   "source": [
    "df = pd.DataFrame(people)\n",
    "df"
   ]
  },
  {
   "source": [
    "# Adding and Removing Columns"
   ],
   "cell_type": "markdown",
   "metadata": {}
  },
  {
   "cell_type": "code",
   "execution_count": 5,
   "metadata": {},
   "outputs": [
    {
     "output_type": "execute_result",
     "data": {
      "text/plain": [
       "0    Griffin Sargent\n",
       "1           Jane Doe\n",
       "2           John Doe\n",
       "dtype: object"
      ]
     },
     "metadata": {},
     "execution_count": 5
    }
   ],
   "source": [
    "#\n",
    "df['first'] + ' ' + df['last']"
   ]
  },
  {
   "cell_type": "code",
   "execution_count": 6,
   "metadata": {},
   "outputs": [
    {
     "output_type": "execute_result",
     "data": {
      "text/plain": [
       "     first     last                        email        full_name\n",
       "0  Griffin  Sargent  griffin.a.sargent@gmail.com  Griffin Sargent\n",
       "1     Jane      Doe               jane@email.com         Jane Doe\n",
       "2     John      Doe              MikeJ@email.com         John Doe"
      ],
      "text/html": "<div>\n<style scoped>\n    .dataframe tbody tr th:only-of-type {\n        vertical-align: middle;\n    }\n\n    .dataframe tbody tr th {\n        vertical-align: top;\n    }\n\n    .dataframe thead th {\n        text-align: right;\n    }\n</style>\n<table border=\"1\" class=\"dataframe\">\n  <thead>\n    <tr style=\"text-align: right;\">\n      <th></th>\n      <th>first</th>\n      <th>last</th>\n      <th>email</th>\n      <th>full_name</th>\n    </tr>\n  </thead>\n  <tbody>\n    <tr>\n      <th>0</th>\n      <td>Griffin</td>\n      <td>Sargent</td>\n      <td>griffin.a.sargent@gmail.com</td>\n      <td>Griffin Sargent</td>\n    </tr>\n    <tr>\n      <th>1</th>\n      <td>Jane</td>\n      <td>Doe</td>\n      <td>jane@email.com</td>\n      <td>Jane Doe</td>\n    </tr>\n    <tr>\n      <th>2</th>\n      <td>John</td>\n      <td>Doe</td>\n      <td>MikeJ@email.com</td>\n      <td>John Doe</td>\n    </tr>\n  </tbody>\n</table>\n</div>"
     },
     "metadata": {},
     "execution_count": 6
    }
   ],
   "source": [
    "df['full_name'] = df['first'] + ' ' + df['last']\n",
    "df"
   ]
  },
  {
   "cell_type": "code",
   "execution_count": 8,
   "metadata": {},
   "outputs": [
    {
     "output_type": "execute_result",
     "data": {
      "text/plain": [
       "                         email        full_name\n",
       "0  griffin.a.sargent@gmail.com  Griffin Sargent\n",
       "1               jane@email.com         Jane Doe\n",
       "2              MikeJ@email.com         John Doe"
      ],
      "text/html": "<div>\n<style scoped>\n    .dataframe tbody tr th:only-of-type {\n        vertical-align: middle;\n    }\n\n    .dataframe tbody tr th {\n        vertical-align: top;\n    }\n\n    .dataframe thead th {\n        text-align: right;\n    }\n</style>\n<table border=\"1\" class=\"dataframe\">\n  <thead>\n    <tr style=\"text-align: right;\">\n      <th></th>\n      <th>email</th>\n      <th>full_name</th>\n    </tr>\n  </thead>\n  <tbody>\n    <tr>\n      <th>0</th>\n      <td>griffin.a.sargent@gmail.com</td>\n      <td>Griffin Sargent</td>\n    </tr>\n    <tr>\n      <th>1</th>\n      <td>jane@email.com</td>\n      <td>Jane Doe</td>\n    </tr>\n    <tr>\n      <th>2</th>\n      <td>MikeJ@email.com</td>\n      <td>John Doe</td>\n    </tr>\n  </tbody>\n</table>\n</div>"
     },
     "metadata": {},
     "execution_count": 8
    }
   ],
   "source": [
    "# Remove our old columns\n",
    "df.drop(columns=['first','last'], inplace=True)\n",
    "df"
   ]
  },
  {
   "cell_type": "code",
   "execution_count": 10,
   "metadata": {},
   "outputs": [
    {
     "output_type": "execute_result",
     "data": {
      "text/plain": [
       "         0        1\n",
       "0  Griffin  Sargent\n",
       "1     Jane      Doe\n",
       "2     John      Doe"
      ],
      "text/html": "<div>\n<style scoped>\n    .dataframe tbody tr th:only-of-type {\n        vertical-align: middle;\n    }\n\n    .dataframe tbody tr th {\n        vertical-align: top;\n    }\n\n    .dataframe thead th {\n        text-align: right;\n    }\n</style>\n<table border=\"1\" class=\"dataframe\">\n  <thead>\n    <tr style=\"text-align: right;\">\n      <th></th>\n      <th>0</th>\n      <th>1</th>\n    </tr>\n  </thead>\n  <tbody>\n    <tr>\n      <th>0</th>\n      <td>Griffin</td>\n      <td>Sargent</td>\n    </tr>\n    <tr>\n      <th>1</th>\n      <td>Jane</td>\n      <td>Doe</td>\n    </tr>\n    <tr>\n      <th>2</th>\n      <td>John</td>\n      <td>Doe</td>\n    </tr>\n  </tbody>\n</table>\n</div>"
     },
     "metadata": {},
     "execution_count": 10
    }
   ],
   "source": [
    "df['full_name'].str.split(' ', expand=True)"
   ]
  },
  {
   "cell_type": "code",
   "execution_count": 12,
   "metadata": {},
   "outputs": [
    {
     "output_type": "execute_result",
     "data": {
      "text/plain": [
       "                         email        full_name    first     last\n",
       "0  griffin.a.sargent@gmail.com  Griffin Sargent  Griffin  Sargent\n",
       "1               jane@email.com         Jane Doe     Jane      Doe\n",
       "2              MikeJ@email.com         John Doe     John      Doe"
      ],
      "text/html": "<div>\n<style scoped>\n    .dataframe tbody tr th:only-of-type {\n        vertical-align: middle;\n    }\n\n    .dataframe tbody tr th {\n        vertical-align: top;\n    }\n\n    .dataframe thead th {\n        text-align: right;\n    }\n</style>\n<table border=\"1\" class=\"dataframe\">\n  <thead>\n    <tr style=\"text-align: right;\">\n      <th></th>\n      <th>email</th>\n      <th>full_name</th>\n      <th>first</th>\n      <th>last</th>\n    </tr>\n  </thead>\n  <tbody>\n    <tr>\n      <th>0</th>\n      <td>griffin.a.sargent@gmail.com</td>\n      <td>Griffin Sargent</td>\n      <td>Griffin</td>\n      <td>Sargent</td>\n    </tr>\n    <tr>\n      <th>1</th>\n      <td>jane@email.com</td>\n      <td>Jane Doe</td>\n      <td>Jane</td>\n      <td>Doe</td>\n    </tr>\n    <tr>\n      <th>2</th>\n      <td>MikeJ@email.com</td>\n      <td>John Doe</td>\n      <td>John</td>\n      <td>Doe</td>\n    </tr>\n  </tbody>\n</table>\n</div>"
     },
     "metadata": {},
     "execution_count": 12
    }
   ],
   "source": [
    "df[['first','last']] = df['full_name'].str.split(' ', expand=True)\n",
    "df"
   ]
  },
  {
   "source": [
    "# Adding rows (df.append)"
   ],
   "cell_type": "markdown",
   "metadata": {}
  },
  {
   "cell_type": "code",
   "execution_count": 14,
   "metadata": {},
   "outputs": [
    {
     "output_type": "execute_result",
     "data": {
      "text/plain": [
       "                         email        full_name    first     last\n",
       "0  griffin.a.sargent@gmail.com  Griffin Sargent  Griffin  Sargent\n",
       "1               jane@email.com         Jane Doe     Jane      Doe\n",
       "2              MikeJ@email.com         John Doe     John      Doe\n",
       "3                          NaN              NaN     Tony      NaN"
      ],
      "text/html": "<div>\n<style scoped>\n    .dataframe tbody tr th:only-of-type {\n        vertical-align: middle;\n    }\n\n    .dataframe tbody tr th {\n        vertical-align: top;\n    }\n\n    .dataframe thead th {\n        text-align: right;\n    }\n</style>\n<table border=\"1\" class=\"dataframe\">\n  <thead>\n    <tr style=\"text-align: right;\">\n      <th></th>\n      <th>email</th>\n      <th>full_name</th>\n      <th>first</th>\n      <th>last</th>\n    </tr>\n  </thead>\n  <tbody>\n    <tr>\n      <th>0</th>\n      <td>griffin.a.sargent@gmail.com</td>\n      <td>Griffin Sargent</td>\n      <td>Griffin</td>\n      <td>Sargent</td>\n    </tr>\n    <tr>\n      <th>1</th>\n      <td>jane@email.com</td>\n      <td>Jane Doe</td>\n      <td>Jane</td>\n      <td>Doe</td>\n    </tr>\n    <tr>\n      <th>2</th>\n      <td>MikeJ@email.com</td>\n      <td>John Doe</td>\n      <td>John</td>\n      <td>Doe</td>\n    </tr>\n    <tr>\n      <th>3</th>\n      <td>NaN</td>\n      <td>NaN</td>\n      <td>Tony</td>\n      <td>NaN</td>\n    </tr>\n  </tbody>\n</table>\n</div>"
     },
     "metadata": {},
     "execution_count": 14
    }
   ],
   "source": [
    "df.append({'first': 'Tony'}, ignore_index=True)"
   ]
  },
  {
   "cell_type": "code",
   "execution_count": 16,
   "metadata": {},
   "outputs": [
    {
     "output_type": "execute_result",
     "data": {
      "text/plain": [
       "   first    last               email\n",
       "0   Tony   Stark  ironman@avenge.com\n",
       "1  Steve  Rogers      Cap@avenge.com"
      ],
      "text/html": "<div>\n<style scoped>\n    .dataframe tbody tr th:only-of-type {\n        vertical-align: middle;\n    }\n\n    .dataframe tbody tr th {\n        vertical-align: top;\n    }\n\n    .dataframe thead th {\n        text-align: right;\n    }\n</style>\n<table border=\"1\" class=\"dataframe\">\n  <thead>\n    <tr style=\"text-align: right;\">\n      <th></th>\n      <th>first</th>\n      <th>last</th>\n      <th>email</th>\n    </tr>\n  </thead>\n  <tbody>\n    <tr>\n      <th>0</th>\n      <td>Tony</td>\n      <td>Stark</td>\n      <td>ironman@avenge.com</td>\n    </tr>\n    <tr>\n      <th>1</th>\n      <td>Steve</td>\n      <td>Rogers</td>\n      <td>Cap@avenge.com</td>\n    </tr>\n  </tbody>\n</table>\n</div>"
     },
     "metadata": {},
     "execution_count": 16
    }
   ],
   "source": [
    "people = {\n",
    "    \"first\": [\"Tony\", \"Steve\"],\n",
    "    \"last\": [\"Stark\", \"Rogers\"],\n",
    "    \"email\": [\"ironman@avenge.com\", \"Cap@avenge.com\"]\n",
    "}\n",
    "df2 = pd.DataFrame(people)\n",
    "df2"
   ]
  },
  {
   "cell_type": "code",
   "execution_count": 23,
   "metadata": {},
   "outputs": [
    {
     "output_type": "execute_result",
     "data": {
      "text/plain": [
       "                         email        full_name    first     last\n",
       "0  griffin.a.sargent@gmail.com  Griffin Sargent  Griffin  Sargent\n",
       "1               jane@email.com         Jane Doe     Jane      Doe\n",
       "2              MikeJ@email.com         John Doe     John      Doe\n",
       "3           ironman@avenge.com              NaN     Tony    Stark\n",
       "4               Cap@avenge.com              NaN    Steve   Rogers"
      ],
      "text/html": "<div>\n<style scoped>\n    .dataframe tbody tr th:only-of-type {\n        vertical-align: middle;\n    }\n\n    .dataframe tbody tr th {\n        vertical-align: top;\n    }\n\n    .dataframe thead th {\n        text-align: right;\n    }\n</style>\n<table border=\"1\" class=\"dataframe\">\n  <thead>\n    <tr style=\"text-align: right;\">\n      <th></th>\n      <th>email</th>\n      <th>full_name</th>\n      <th>first</th>\n      <th>last</th>\n    </tr>\n  </thead>\n  <tbody>\n    <tr>\n      <th>0</th>\n      <td>griffin.a.sargent@gmail.com</td>\n      <td>Griffin Sargent</td>\n      <td>Griffin</td>\n      <td>Sargent</td>\n    </tr>\n    <tr>\n      <th>1</th>\n      <td>jane@email.com</td>\n      <td>Jane Doe</td>\n      <td>Jane</td>\n      <td>Doe</td>\n    </tr>\n    <tr>\n      <th>2</th>\n      <td>MikeJ@email.com</td>\n      <td>John Doe</td>\n      <td>John</td>\n      <td>Doe</td>\n    </tr>\n    <tr>\n      <th>3</th>\n      <td>ironman@avenge.com</td>\n      <td>NaN</td>\n      <td>Tony</td>\n      <td>Stark</td>\n    </tr>\n    <tr>\n      <th>4</th>\n      <td>Cap@avenge.com</td>\n      <td>NaN</td>\n      <td>Steve</td>\n      <td>Rogers</td>\n    </tr>\n  </tbody>\n</table>\n</div>"
     },
     "metadata": {},
     "execution_count": 23
    }
   ],
   "source": [
    "df = df.append(df2, ignore_index=True, sort=False)\n",
    "df"
   ]
  },
  {
   "source": [
    "# Remove Rows (df.drop)"
   ],
   "cell_type": "markdown",
   "metadata": {}
  },
  {
   "cell_type": "code",
   "execution_count": 25,
   "metadata": {},
   "outputs": [
    {
     "output_type": "execute_result",
     "data": {
      "text/plain": [
       "                         email        full_name    first     last\n",
       "0  griffin.a.sargent@gmail.com  Griffin Sargent  Griffin  Sargent\n",
       "1               jane@email.com         Jane Doe     Jane      Doe\n",
       "2              MikeJ@email.com         John Doe     John      Doe\n",
       "3           ironman@avenge.com              NaN     Tony    Stark"
      ],
      "text/html": "<div>\n<style scoped>\n    .dataframe tbody tr th:only-of-type {\n        vertical-align: middle;\n    }\n\n    .dataframe tbody tr th {\n        vertical-align: top;\n    }\n\n    .dataframe thead th {\n        text-align: right;\n    }\n</style>\n<table border=\"1\" class=\"dataframe\">\n  <thead>\n    <tr style=\"text-align: right;\">\n      <th></th>\n      <th>email</th>\n      <th>full_name</th>\n      <th>first</th>\n      <th>last</th>\n    </tr>\n  </thead>\n  <tbody>\n    <tr>\n      <th>0</th>\n      <td>griffin.a.sargent@gmail.com</td>\n      <td>Griffin Sargent</td>\n      <td>Griffin</td>\n      <td>Sargent</td>\n    </tr>\n    <tr>\n      <th>1</th>\n      <td>jane@email.com</td>\n      <td>Jane Doe</td>\n      <td>Jane</td>\n      <td>Doe</td>\n    </tr>\n    <tr>\n      <th>2</th>\n      <td>MikeJ@email.com</td>\n      <td>John Doe</td>\n      <td>John</td>\n      <td>Doe</td>\n    </tr>\n    <tr>\n      <th>3</th>\n      <td>ironman@avenge.com</td>\n      <td>NaN</td>\n      <td>Tony</td>\n      <td>Stark</td>\n    </tr>\n  </tbody>\n</table>\n</div>"
     },
     "metadata": {},
     "execution_count": 25
    }
   ],
   "source": [
    "df.drop(index=4)"
   ]
  },
  {
   "cell_type": "code",
   "execution_count": 29,
   "metadata": {},
   "outputs": [
    {
     "output_type": "execute_result",
     "data": {
      "text/plain": [
       "                         email        full_name    first     last\n",
       "0  griffin.a.sargent@gmail.com  Griffin Sargent  Griffin  Sargent\n",
       "3           ironman@avenge.com              NaN     Tony    Stark\n",
       "4               Cap@avenge.com              NaN    Steve   Rogers"
      ],
      "text/html": "<div>\n<style scoped>\n    .dataframe tbody tr th:only-of-type {\n        vertical-align: middle;\n    }\n\n    .dataframe tbody tr th {\n        vertical-align: top;\n    }\n\n    .dataframe thead th {\n        text-align: right;\n    }\n</style>\n<table border=\"1\" class=\"dataframe\">\n  <thead>\n    <tr style=\"text-align: right;\">\n      <th></th>\n      <th>email</th>\n      <th>full_name</th>\n      <th>first</th>\n      <th>last</th>\n    </tr>\n  </thead>\n  <tbody>\n    <tr>\n      <th>0</th>\n      <td>griffin.a.sargent@gmail.com</td>\n      <td>Griffin Sargent</td>\n      <td>Griffin</td>\n      <td>Sargent</td>\n    </tr>\n    <tr>\n      <th>3</th>\n      <td>ironman@avenge.com</td>\n      <td>NaN</td>\n      <td>Tony</td>\n      <td>Stark</td>\n    </tr>\n    <tr>\n      <th>4</th>\n      <td>Cap@avenge.com</td>\n      <td>NaN</td>\n      <td>Steve</td>\n      <td>Rogers</td>\n    </tr>\n  </tbody>\n</table>\n</div>"
     },
     "metadata": {},
     "execution_count": 29
    }
   ],
   "source": [
    "# Drop based on a 'WHERE' condition\n",
    "filt = df['last'] == 'Doe'\n",
    "df.drop(index=df[filt].index)"
   ]
  },
  {
   "cell_type": "code",
   "execution_count": null,
   "metadata": {},
   "outputs": [],
   "source": []
  }
 ]
}